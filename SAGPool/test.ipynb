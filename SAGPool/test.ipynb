{
 "cells": [
  {
   "cell_type": "code",
   "execution_count": 12,
   "metadata": {},
   "outputs": [
    {
     "data": {
      "text/plain": [
       "tensor([1, 2, 3, 4, 5, 6, 7, 1])"
      ]
     },
     "execution_count": 12,
     "metadata": {},
     "output_type": "execute_result"
    }
   ],
   "source": [
    "import numpy as np\n",
    "import torch\n",
    "\n",
    "\n",
    "x = torch.tensor([1, 2, 3, 4, 5, 6, 7])\n",
    "y = torch.tensor([1])\n",
    "index = [4, 3, 1]\n",
    "score = torch.cat([x, y], dim = 0)\n",
    "score"
   ]
  },
  {
   "cell_type": "code",
   "execution_count": 4,
   "metadata": {},
   "outputs": [
    {
     "name": "stdout",
     "output_type": "stream",
     "text": [
      "i: 1, 254.0\n",
      "i: 2, 252.0\n",
      "i: 3, 250.0\n",
      "i: 4, 248.0\n",
      "i: 5, 246.0\n",
      "i: 6, 244.0\n",
      "i: 7, 242.0\n",
      "i: 8, 240.0\n",
      "i: 9, 238.0\n",
      "i: 10, 236.0\n",
      "i: 11, 234.0\n",
      "i: 12, 232.0\n",
      "i: 13, 230.0\n",
      "i: 14, 228.0\n",
      "i: 15, 226.0\n",
      "i: 16, 224.0\n",
      "i: 17, 222.0\n",
      "i: 18, 220.0\n",
      "i: 19, 218.0\n",
      "i: 20, 216.0\n",
      "i: 21, 214.0\n",
      "i: 22, 212.0\n",
      "i: 23, 210.0\n",
      "i: 24, 208.0\n"
     ]
    }
   ],
   "source": [
    "import numpy as np\n",
    "a = 256\n",
    "for i in range(1, 25):\n",
    "    a = np.ceil(a * 0.99)\n",
    "    print(\"i: {}, {}\".format(i, a))"
   ]
  },
  {
   "cell_type": "code",
   "execution_count": 9,
   "metadata": {},
   "outputs": [
    {
     "name": "stdout",
     "output_type": "stream",
     "text": [
      "i: 1, 240\n",
      "i: 2, 224\n",
      "i: 3, 208\n",
      "i: 4, 192\n",
      "i: 5, 176\n",
      "i: 6, 160\n",
      "i: 7, 144\n",
      "i: 8, 128\n",
      "i: 9, 112\n",
      "i: 10, 96\n",
      "i: 11, 80\n",
      "i: 12, 64\n",
      "i: 13, 48\n",
      "i: 14, 32\n",
      "i: 15, 16\n",
      "i: 16, 0\n",
      "i: 17, -16\n",
      "i: 18, -32\n",
      "i: 19, -48\n",
      "i: 20, -64\n",
      "i: 21, -80\n",
      "i: 22, -96\n",
      "i: 23, -112\n",
      "i: 24, -128\n"
     ]
    }
   ],
   "source": [
    "b = 256\n",
    "r = 16\n",
    "for i in range(0, 24):\n",
    "    b = b - r\n",
    "    print(\"i: {}, {}\".format(i+1, b))"
   ]
  }
 ],
 "metadata": {
  "kernelspec": {
   "display_name": "tome",
   "language": "python",
   "name": "python3"
  },
  "language_info": {
   "codemirror_mode": {
    "name": "ipython",
    "version": 3
   },
   "file_extension": ".py",
   "mimetype": "text/x-python",
   "name": "python",
   "nbconvert_exporter": "python",
   "pygments_lexer": "ipython3",
   "version": "3.8.18"
  }
 },
 "nbformat": 4,
 "nbformat_minor": 2
}
