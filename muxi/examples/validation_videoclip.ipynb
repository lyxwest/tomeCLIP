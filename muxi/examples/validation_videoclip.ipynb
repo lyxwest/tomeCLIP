{
 "cells": [
  {
   "cell_type": "code",
   "execution_count": 1,
   "metadata": {},
   "outputs": [
    {
     "name": "stderr",
     "output_type": "stream",
     "text": [
      "/opt/conda/lib/python3.8/site-packages/torchvision/io/image.py:13: UserWarning: Failed to load image Python extension: 'libpng16.so.16: cannot open shared object file: No such file or directory'If you don't plan on using image functionality from `torchvision.io`, you can ignore this warning. Otherwise, there might be something wrong with your environment. Did you have `libjpeg` or `libpng` installed before building `torchvision` from source?\n",
      "  warn(\n",
      "/opt/conda/lib/python3.8/site-packages/tqdm/auto.py:21: TqdmWarning: IProgress not found. Please update jupyter and ipywidgets. See https://ipywidgets.readthedocs.io/en/stable/user_install.html\n",
      "  from .autonotebook import tqdm as notebook_tqdm\n"
     ]
    }
   ],
   "source": [
    "import sys\n",
    "sys.path.append(\"..\") \n",
    "\n",
    "import os\n",
    "os.environ[\"CUDA_VISIBLE_DEVICES\"] = \"1\"\n",
    "import json\n",
    "import torch\n",
    "import torch.nn.functional as F\n",
    "import random\n",
    "import numpy as np\n",
    "import tqdm as notebook_tqdm\n",
    "import clip\n",
    "import argparse\n",
    "import yaml\n",
    "from dotmap import DotMap\n",
    "from modules.video_clip import video_header, VideoCLIP\n",
    "import torch.backends.cudnn as cudnn\n",
    "import torch.distributed as dist\n",
    "\n",
    "from utils.Augmentation import get_augmentation\n",
    "from utils.utils import init_distributed_mode, AverageMeter, reduce_tensor, accuracy\n",
    "\n",
    "import torch\n",
    "\n",
    "from datasets import Video_dataset\n",
    "from torch.utils.data import DataLoader\n",
    "\n",
    "import tome\n",
    "from tome.patch.clip import patch_openclip"
   ]
  },
  {
   "cell_type": "code",
   "execution_count": 2,
   "metadata": {},
   "outputs": [],
   "source": [
    "def get_parser():\n",
    "    parser = argparse.ArgumentParser()\n",
    "    # parser.add_argument('--config', '-cfg', type=str, default='clip.yaml', help='global config file')\n",
    "    parser.add_argument('--log_time', default='001')\n",
    "    parser.add_argument('--dist_url', default='env://',\n",
    "                        help='url used to set up distributed training')\n",
    "    parser.add_argument('--world_size', default=1, type=int,\n",
    "                        help='number of distributed processes')                        \n",
    "    parser.add_argument(\"--local_rank\", type=int,\n",
    "                        help='local rank for DistributedDataParallel')\n",
    "    parser.add_argument(\n",
    "        \"--precision\",\n",
    "        choices=[\"amp\", \"fp16\", \"fp32\"],\n",
    "        default=\"amp\",\n",
    "        help=\"Floating point precition.\"\n",
    "    )\n",
    "    parser.add_argument(\n",
    "        \"--master_port\",\n",
    "        default=1027\n",
    "    )\n",
    "    parser.add_argument(\n",
    "        \"--nproc_per_node\",\n",
    "        default=1\n",
    "    )                        \n",
    "    # args = parser.parse_args()\n",
    "    args = parser.parse_known_args()[0]\n",
    "    return args\n"
   ]
  },
  {
   "cell_type": "code",
   "execution_count": 3,
   "metadata": {},
   "outputs": [
    {
     "name": "stdout",
     "output_type": "stream",
     "text": [
      "Not using distributed mode\n"
     ]
    }
   ],
   "source": [
    "args = get_parser()\n",
    "init_distributed_mode(args)"
   ]
  },
  {
   "cell_type": "code",
   "execution_count": 4,
   "metadata": {},
   "outputs": [],
   "source": [
    "with open('/home/code/lyx/tome/configs/hmdb51/hmdb_few_shot.yaml', 'r') as f:\n",
    "    config = yaml.load(f, Loader=yaml.FullLoader)\n",
    "config = DotMap(config)\n",
    "\n",
    "if torch.cuda.is_available():\n",
    "        device = \"cuda\"\n",
    "        cudnn.benchmark = True\n",
    "        \n",
    "# # fix the seed for reproducibility\n",
    "# seed = config.seed + dist.get_rank()\n",
    "# torch.manual_seed(seed)\n",
    "# np.random.seed(seed)"
   ]
  },
  {
   "cell_type": "code",
   "execution_count": 5,
   "metadata": {},
   "outputs": [],
   "source": [
    "# get fp16 model and weight\n",
    "model, clip_state_dict = clip.load(\n",
    "    config.network.arch,\n",
    "    device=\"cpu\",jit=False,\n",
    "    internal_modeling=config.network.tm,\n",
    "    T=config.data.num_segments,\n",
    "    dropout=config.network.drop_out,\n",
    "    emb_dropout=config.network.emb_dropout,\n",
    "    pretrain=config.network.init,\n",
    "    joint_st=config.network.joint_st) # Must set jit=False for training"
   ]
  },
  {
   "cell_type": "code",
   "execution_count": 6,
   "metadata": {},
   "outputs": [],
   "source": [
    "classes = [\"dog\", \"cat\", \"wolf\", \"people\", \"stone\", \"grass\"]\n",
    "text_dict = torch.cat([clip.tokenize(c) for c in classes])\n",
    "model.eval()\n",
    "with torch.no_grad():\n",
    "    classes_features = model.encode_text(text_dict)  # [n_class dim]"
   ]
  },
  {
   "cell_type": "code",
   "execution_count": 7,
   "metadata": {},
   "outputs": [
    {
     "name": "stdout",
     "output_type": "stream",
     "text": [
      "layer=6\n"
     ]
    }
   ],
   "source": [
    "\n",
    "video_head = video_header(\n",
    "    config.network.sim_header,\n",
    "    clip_state_dict)\n",
    "\n",
    "\n",
    "model_full = VideoCLIP(model, video_head, config.data.num_segments)\n",
    "model_full = model_full.to(device)"
   ]
  },
  {
   "cell_type": "code",
   "execution_count": 8,
   "metadata": {},
   "outputs": [],
   "source": [
    "device = \"cuda\"\n",
    "runs = 50\n",
    "batch_size = 4  # Lower this if you don't have that much memory\n",
    "input_size = [config.data.num_segments * batch_size, 3, 224,224]"
   ]
  },
  {
   "cell_type": "code",
   "execution_count": 9,
   "metadata": {},
   "outputs": [
    {
     "name": "stderr",
     "output_type": "stream",
     "text": [
      "Benchmarking: 100%|██████████| 50/50 [00:10<00:00,  4.64it/s]\n"
     ]
    },
    {
     "name": "stdout",
     "output_type": "stream",
     "text": [
      "Throughput: 5.70 im/s\n"
     ]
    }
   ],
   "source": [
    "# baseline benchmark\n",
    "model_full = model_full.float()\n",
    "classes_features = classes_features.to(device)\n",
    "baseline_throughput = tome.utils.benchmark(\n",
    "    model_full,\n",
    "    device=device,\n",
    "    verbose=True,\n",
    "    runs=runs,\n",
    "    batch_size=batch_size,\n",
    "    input_size=input_size,\n",
    "    text = classes_features\n",
    ")"
   ]
  },
  {
   "cell_type": "code",
   "execution_count": 10,
   "metadata": {},
   "outputs": [],
   "source": [
    "patch_openclip(model, 16)"
   ]
  },
  {
   "cell_type": "code",
   "execution_count": 11,
   "metadata": {},
   "outputs": [
    {
     "name": "stdout",
     "output_type": "stream",
     "text": [
      "layer=6\n"
     ]
    }
   ],
   "source": [
    "video_head = video_header(\n",
    "    config.network.sim_header,\n",
    "    clip_state_dict)\n",
    "\n",
    "\n",
    "model_full = VideoCLIP(model, video_head, config.data.num_segments)\n",
    "model_full = model_full.to(device)"
   ]
  },
  {
   "cell_type": "code",
   "execution_count": 12,
   "metadata": {},
   "outputs": [
    {
     "name": "stderr",
     "output_type": "stream",
     "text": [
      "Benchmarking: 100%|██████████| 50/50 [00:04<00:00, 11.39it/s]"
     ]
    },
    {
     "name": "stdout",
     "output_type": "stream",
     "text": [
      "Throughput: 15.55 im/s\n",
      "Throughput improvement: 2.73x\n"
     ]
    },
    {
     "name": "stderr",
     "output_type": "stream",
     "text": [
      "\n"
     ]
    }
   ],
   "source": [
    "# Tome benchmark\n",
    "model_full = model_full.float()\n",
    "classes_features = classes_features.to(device)\n",
    "tome_throughput = tome.utils.benchmark(\n",
    "    model_full,\n",
    "    device=device,\n",
    "    verbose=True,\n",
    "    runs=runs,\n",
    "    batch_size=batch_size,\n",
    "    input_size=input_size,\n",
    "    text = classes_features\n",
    ")\n",
    "print(f\"Throughput improvement: {tome_throughput / baseline_throughput:.2f}x\")"
   ]
  }
 ],
 "metadata": {
  "kernelspec": {
   "display_name": "tome",
   "language": "python",
   "name": "python3"
  },
  "language_info": {
   "codemirror_mode": {
    "name": "ipython",
    "version": 3
   },
   "file_extension": ".py",
   "mimetype": "text/x-python",
   "name": "python",
   "nbconvert_exporter": "python",
   "pygments_lexer": "ipython3",
   "version": "3.8.16"
  }
 },
 "nbformat": 4,
 "nbformat_minor": 2
}
