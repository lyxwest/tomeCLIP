{
 "cells": [
  {
   "cell_type": "code",
   "execution_count": 1,
   "metadata": {},
   "outputs": [
    {
     "name": "stderr",
     "output_type": "stream",
     "text": [
      "/home/lyx/anaconda3/envs/tome/lib/python3.8/site-packages/tqdm/auto.py:21: TqdmWarning: IProgress not found. Please update jupyter and ipywidgets. See https://ipywidgets.readthedocs.io/en/stable/user_install.html\n",
      "  from .autonotebook import tqdm as notebook_tqdm\n"
     ]
    }
   ],
   "source": [
    "import numpy as np\n",
    "import torch\n",
    "import scipy.sparse as sp"
   ]
  },
  {
   "cell_type": "code",
   "execution_count": 2,
   "metadata": {},
   "outputs": [
    {
     "data": {
      "text/plain": [
       "tensor([0, 0, 0, 0, 0, 0, 0, 0, 0, 0, 1, 1, 1, 1, 1, 1, 1, 1, 1, 1, 2, 2, 2, 2,\n",
       "        2, 2, 2, 2, 2, 2, 3, 3, 3, 3, 3, 3, 3, 3, 3, 3])"
      ]
     },
     "execution_count": 2,
     "metadata": {},
     "output_type": "execute_result"
    }
   ],
   "source": [
    "def generate_graph_labels(num_nodes, num_graphs):\n",
    "    graph_ids = torch.arange(num_graphs)\n",
    "    \n",
    "    graph_labels = graph_ids.repeat_interleave(num_nodes)\n",
    "    \n",
    "    return graph_labels\n",
    "\n",
    "generate_graph_labels(10, 4)"
   ]
  },
  {
   "cell_type": "code",
   "execution_count": 2,
   "metadata": {},
   "outputs": [],
   "source": [
    "def create_adj( H, W, C, neibour):\n",
    "    \"\"\"\n",
    "    功能：\n",
    "        根据featuremap的高和宽建立对应的空域邻接矩阵,\n",
    "    输入：\n",
    "        h featuremap的高度\n",
    "        w featuremap的宽\n",
    "        C featuremap的通道数 \n",
    "        neibour  4或8决定空域adj的邻居数   2 决定计算channel的adj\n",
    "    \"\"\"\n",
    "    h = H\n",
    "    w = W\n",
    "    n = h*w\n",
    "    x = [] #保存节点\n",
    "    y = [] #保存对应的邻居节点\n",
    "    #判断是生成8邻居还是4邻居\n",
    "    if neibour==8:\n",
    "        l =np.reshape(np.arange(n),(h,w))\n",
    "        # print(l)\n",
    "        # print(((l[:,2])+w)[:1])\n",
    "        #print(l[:,2])\n",
    "        for i in range(h): \n",
    "            #邻界条件需要考虑，故掐头去尾先做中间再两边\n",
    "            r = l[i,:]\n",
    "            #左邻\n",
    "            x = np.append(x,r[1:]).astype(int) #0没有上一个邻居\n",
    "            y = np.append(y,(r-1)[1:]).astype(int)\n",
    "            #每个元素的右邻居\n",
    "            x = np.append(x,r[:-1]).astype(int) #最后一个没有下一个邻居\n",
    "            y = np.append(y,(r+1)[:-1]).astype(int) \n",
    "            if i >0:\n",
    "                #上邻\n",
    "                x = np.append(x,r).astype(int) #最后一个没有下一个邻居\n",
    "                y = np.append(y,(r-w)).astype(int) \n",
    "                #左上\n",
    "                x = np.append(x,r[1:]).astype(int) #最后一个没有下一个邻居\n",
    "                y = np.append(y,(r-w-1)[1:]).astype(int) \n",
    "                #右上\n",
    "                x = np.append(x,r[:-1]).astype(int) #最后一个没有下一个邻居\n",
    "                y = np.append(y,(r-w+1)[:-1]).astype(int) \n",
    "            if i <h-1:\n",
    "                #下邻\n",
    "                x = np.append(x,r).astype(int) #最后一个没有下一个邻居\n",
    "                y = np.append(y,(r+w)).astype(int) \n",
    "                #左下\n",
    "                x = np.append(x,r[1:]).astype(int) #最后一个没有下一个邻居\n",
    "                y = np.append(y,(r+w-1)[1:]).astype(int) \n",
    "                #右上\n",
    "                x = np.append(x,r[:-1]).astype(int) #最后一个没有下一个邻居\n",
    "                y = np.append(y,(r+w+1)[:-1]).astype(int)                           \n",
    "    elif neibour==4:       #4邻居\n",
    "        l =np.reshape(np.arange(n),(h,w))\n",
    "        for i in range(h): \n",
    "            v = l[i,:]\n",
    "            x = np.append(x,v[1:]).astype(int) #0没有上一个邻居\n",
    "            y = np.append(y,(v-1)[1:]).astype(int)\n",
    "            #每个元素的右邻居\n",
    "            x = np.append(x,v[:-1]).astype(int) #最后一个没有下一个邻居\n",
    "            y = np.append(y,(v+1)[:-1]).astype(int) \n",
    "\n",
    "        for i in range(w):\n",
    "            p = l[:,i]\n",
    "            #上邻\n",
    "            x = np.append(x,p[1:]).astype(int) #0没有上一个邻居\n",
    "            y = np.append(y,(p-w)[1:]).astype(int)\n",
    "            #下邻  \n",
    "            x = np.append(x,p[:-1]).astype(int) #0没有上一个邻居\n",
    "            y = np.append(y,(p+w)[:-1]).astype(int)\n",
    "    elif neibour==2:       #4邻居\n",
    "        n = C\n",
    "        l =np.arange(n)\n",
    "\n",
    "        #每个元素的上一个邻居\n",
    "        x = np.append(x,l[1:]).astype(int) #0没有上一个邻居\n",
    "        y = np.append(y,(l-1)[1:]).astype(int)\n",
    "        #每个元素的下一个邻居\n",
    "        x = np.append(x,l[:-1]).astype(int) #最后一个没有下一个邻居\n",
    "        y = np.append(y,(l+1)[:-1]).astype(int) \n",
    "    adj = np.array((x,y)).T  #生成的两列合并得到节点及其邻居的矩阵\n",
    "    #print(adj)\n",
    "    #使用sp.coo_matrix() 和 np.ones() 共同生成临界矩阵，右边的\n",
    "\n",
    "    adj = sp.coo_matrix((np.ones(adj.shape[0]), (adj[:, 0], adj[:, 1])),shape=(n, n),dtype=np.float32)\n",
    "\n",
    "    # build symmetric adjacency matrix 堆成矩阵\n",
    "    adj = adj + adj.T.multiply(adj.T > adj) - adj.multiply(adj.T > adj)\n",
    "    #adj = np.hstack((x,y)).rehsape(-1,2) 这样reshape得到的是临近两个一组变化成两列，不符合条件\n",
    "    #adj =normalize( adj + sp.eye(adj.shape[0]))\n",
    "    adj = np.array(adj.todense())\n",
    "    ''''      保存adj的数据查看是什么形状      \t'''\n",
    "    # np.save('./adj.txt',x) \n",
    "    adj = torch.tensor(adj)#.cuda()\n",
    "\n",
    "    #adj = torch.FloatTensor(x).cuda()\n",
    "    return adj"
   ]
  },
  {
   "cell_type": "code",
   "execution_count": 12,
   "metadata": {},
   "outputs": [],
   "source": [
    "adj = create_adj(3, 3, 1, 4)"
   ]
  },
  {
   "cell_type": "code",
   "execution_count": 2,
   "metadata": {},
   "outputs": [
    {
     "data": {
      "text/plain": [
       "torch.Size([64, 1024, 16, 16])"
      ]
     },
     "execution_count": 2,
     "metadata": {},
     "output_type": "execute_result"
    }
   ],
   "source": [
    "import torch\n",
    "from torch import nn\n",
    "\n",
    "img = torch.ones((64, 3, 224, 224))\n",
    "conv1 = nn.Conv2d(3, 1024, (14, 14), (14, 14), bias=False)\n",
    "\n",
    "output = conv1(img)\n",
    "output.shape"
   ]
  },
  {
   "cell_type": "code",
   "execution_count": null,
   "metadata": {},
   "outputs": [],
   "source": [
    "a = torch.tensor([[1, 2,3],[4, 5, 6], [7, 8, 9]])\n",
    "print(a.shape)\n",
    "b = a.reshape(a.shape[0] * a.shape[1])\n",
    "print(b.shape, b)"
   ]
  }
 ],
 "metadata": {
  "kernelspec": {
   "display_name": "tome",
   "language": "python",
   "name": "python3"
  },
  "language_info": {
   "codemirror_mode": {
    "name": "ipython",
    "version": 3
   },
   "file_extension": ".py",
   "mimetype": "text/x-python",
   "name": "python",
   "nbconvert_exporter": "python",
   "pygments_lexer": "ipython3",
   "version": "3.8.18"
  }
 },
 "nbformat": 4,
 "nbformat_minor": 2
}
